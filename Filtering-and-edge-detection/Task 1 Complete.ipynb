{
 "cells": [
  {
   "cell_type": "code",
   "execution_count": 1,
   "metadata": {},
   "outputs": [],
   "source": [
    "import numpy as np\n",
    "import cv2 as cv\n",
    "import numpy as np\n",
    "import matplotlib.pyplot as plt\n",
    "from importlib.resources import path\n",
    "from PIL import Image\n",
    "\n",
    "\n",
    "\n",
    "Original_Image = cv.imread('Flower.jpg')\n",
    "Gray_Image = cv.imread('Flower.jpg', 0)\n",
    "cv.imshow('Grayscale', Gray_Image)\n",
    "cv.imshow('Original', Original_Image)\n",
    "cv.waitKey(0) \n",
    "\n",
    "\n",
    "# Obtain number of rows and columns of the image\n",
    "r, c = Gray_Image.shape\n"
   ]
  },
  {
   "cell_type": "code",
   "execution_count": 2,
   "metadata": {},
   "outputs": [],
   "source": [
    "def add_gauusian_noise(img,mue,sigma):\n",
    "    \n",
    "    noise = np.random.normal(mue,sigma,size = (img.shape[0],img.shape[1]))\n",
    "    new_image = np.zeros((img.shape[0],img.shape[1]),dtype=np.uint8)\n",
    "    for i in range(img.shape[0]):\n",
    "        for j in range(img.shape[1]):\n",
    "            new_image[i][j] = img[i][j] + int(noise[i][j])\n",
    "\n",
    "    return new_image\n",
    "\n",
    "#############################################################\n",
    "def add_uniform_noise(img,low,high):\n",
    "    \n",
    "    noise = np.random.uniform(low,high,size = (img.shape[0],img.shape[1]))\n",
    "    new_image = np.zeros((img.shape[0],img.shape[1]),dtype=np.uint8)\n",
    "    for i in range(img.shape[0]):\n",
    "        for j in range(img.shape[1]):\n",
    "            new_image[i][j] = img[i][j] + int(noise[i][j])\n",
    "\n",
    "    return new_image\n",
    "\n",
    "#############################################################\n",
    "def add_sp_noise(img,percent_salt,percent_pepper):\n",
    "    \n",
    "    num_salt = int(percent_salt * img.shape[0] +percent_salt *img.shape[1])\n",
    "    num_pepper = int(percent_pepper * img.shape[0] +percent_pepper *img.shape[1])\n",
    "    for i in range(num_salt):\n",
    "        index_x = np.random.randint(0,img.shape[0]-1)\n",
    "        index_y = np.random.randint(0,img.shape[1]-1)\n",
    "        img[index_x][index_y] = 255\n",
    "    for i in range(num_pepper):\n",
    "        index_x = np.random.randint(0,img.shape[0]-1)\n",
    "        index_y = np.random.randint(0,img.shape[1]-1)\n",
    "        img[index_x][index_y] = 0\n",
    "\n",
    "    return img\n",
    "\n",
    "\n",
    "#############################################################\n",
    "def get_Histogram(gray_img):\n",
    "    values = [0]*256\n",
    "    for i in range(gray_img.shape[0]):\n",
    "        for j in range(gray_img.shape[1]):\n",
    "            values[gray_img[i,j]] += 1\n",
    "    return values\n",
    "\n",
    "\n",
    "#############################################################\n",
    "def Min_Max(Gray_Image:np.ndarray):\n",
    "    maximum=0\n",
    "    minimum=255\n",
    "    for i in range(Gray_Image.shape[0]):\n",
    "        for j in range(Gray_Image.shape[1]):\n",
    "            if Gray_Image[i][j] <= minimum :\n",
    "                minimum = Gray_Image[i][j]\n",
    "            elif Gray_Image[i][j] >= maximum :\n",
    "                maximum = Gray_Image[i][j]\n",
    "    return minimum,maximum\n",
    "\n",
    "\n",
    "#############################################################\n",
    "def Normalization(Gray_Image:np.ndarray):\n",
    "    minimum,maximum =Min_Max(Gray_Image)\n",
    "    for i in range (Gray_Image.shape[0]):\n",
    "        for j in range (Gray_Image.shape[1]):\n",
    "            Gray_Image[i][j] = (Gray_Image[i][j]-minimum)*(255/(maximum-minimum))\n",
    "    return Gray_Image\n",
    "\n",
    "\n",
    "#############################################################\n",
    "def Averaging_Filter (img , K_Size):\n",
    "\n",
    "    # Develop Averaging filter(K, K) mask\n",
    "    Kernal = np.ones([K_Size, K_Size], dtype = int)\n",
    "    Kernal = Kernal / (K_Size*K_Size)\n",
    "\n",
    "    img_new = conv(img , Kernal)\n",
    "    # print(img_new)\n",
    "\n",
    "    img_new = img_new.astype(np.uint8)\n",
    "\n",
    "    return img_new\n",
    "\n",
    "\n",
    "#############################################################\n",
    "def Median_Filter (img):\n",
    "\n",
    "    # Traverse the image. For every 3X3 area,\n",
    "    # find the median of the pixels and replace the center pixel by the median\n",
    "    img_new = np.zeros([r, c])\n",
    "    for i in range(1, r-1):\n",
    "        for j in range(1, c-1):\n",
    "            temp = [img[i-1, j-1],\n",
    "                img[i-1, j],\n",
    "                img[i-1, j + 1],\n",
    "                img[i, j-1],\n",
    "                img[i, j],\n",
    "                img[i, j + 1],\n",
    "                img[i + 1, j-1],\n",
    "                img[i + 1, j],\n",
    "                img[i + 1, j + 1]]\n",
    "\n",
    "            temp = sorted(temp)\n",
    "            img_new[i, j]= temp[4]\n",
    "\n",
    "    img_new = img_new.astype(np.uint8)\n",
    "\n",
    "    return img_new\n",
    "\n",
    "\n",
    "#############################################################\n",
    "def gaussian_Filter(img , k_Size, sigma):\n",
    "    kernel = gaussian_kernel(k_Size, sigma)\n",
    "    img_gaus = conv(img , kernel)\n",
    "    # print(img_gaus)\n",
    "    img_gaus = img_gaus.astype(np.uint8)\n",
    "\n",
    "    return img_gaus\n",
    "\n",
    "\n",
    "#############################################################\n",
    "def gaussian_kernel(k_Size,sigma):\n",
    "\n",
    "    if k_Size == 3:\n",
    "        # guassian Kernal 3x3\n",
    "        Kernal = np.array([[1,2,1],\n",
    "                        [4,8,4],\n",
    "                        [1,2,1]], dtype=float)\n",
    "        Kernal /= 16.0\n",
    "    else:\n",
    "        # guassian Kernal 5x5\n",
    "        Kernal = np.array([[1,4,7,4,1],\n",
    "                        [4,16,26,16,4],\n",
    "                        [7,26,41,26,7],\n",
    "                        [4,16,26,16,4],\n",
    "                        [1,4,7,4,1]], dtype=float)\n",
    "        Kernal /= 256.0\n",
    "\n",
    "    row, col = Kernal.shape\n",
    "\n",
    "    for i in range (row):\n",
    "        for j in range (col):\n",
    "            Kernal[i,j] = Gaussian_Function(Kernal[i,j], 0, sigma)\n",
    "\n",
    "    return Kernal\n",
    "\n",
    "\n",
    "#############################################################\n",
    "def Gaussian_Function(x, mu, sd):\n",
    "    return 1 / (np.sqrt(2 * np.pi) * sd) * np.e ** (-np.power((x - mu) / sd, 2) / 2)\n",
    "\n",
    "\n",
    "#############################################################\n",
    "def conv(img , mask):\n",
    "\n",
    "    img_conv = np.zeros([r, c])\n",
    "\n",
    "    for i in range(1, r-1):\n",
    "        for j in range(1, c-1):\n",
    "            temp = img[i-1, j-1]*mask[0, 0] + img[i-1, j]*mask[0, 1] + img[i-1, j + 1]*mask[0, 2]+img[i, j-1]*mask[1, 0]+ img[i, j]*mask[1, 1]+img[i, j + 1]*mask[1, 2]+img[i + 1, j-1]*mask[2, 0]+img[i + 1, j]*mask[2, 1]+img[i + 1, j + 1]*mask[2, 2]\n",
    "\n",
    "            img_conv[i, j]= temp\n",
    "    return img_conv\n",
    "\n",
    "\n",
    "#############################################################\n",
    "def Equalize_image(input_image):\n",
    "    img = Image.open(input_image)\n",
    "\n",
    "\n",
    "    imgray = img.convert(mode='L')\n",
    "\n",
    "\n",
    "    img_array = np.asarray(imgray) \n",
    "\n",
    "    histogram_array = np.bincount(img_array.flatten(), minlength=256)\n",
    "    num_pixels = np.sum(histogram_array)\n",
    "    histogram_array = histogram_array/num_pixels\n",
    "\n",
    "   \n",
    "    cumulative_histo_array = np.cumsum(histogram_array)\n",
    "\n",
    "    transform_map = np.floor(255 * cumulative_histo_array).astype(np.uint8)\n",
    "\n",
    "    img_list = list(img_array.flatten())\n",
    "\n",
    "    eq_img_list = [transform_map[p] for p in img_list]\n",
    "\n",
    "    new_image = np.reshape(np.asarray(eq_img_list), img_array.shape)\n",
    "\n",
    "    return new_image\n",
    "\n",
    "\n",
    "#############################################################\n",
    "def get_cumulative(Color_array):\n",
    "    Cmv_array = [0]*256\n",
    "    Cmv_array[0] = Color_array[0] \n",
    "    for i in range(1 , 256):\n",
    "        Cmv_array[i] = Cmv_array[i-1] + Color_array[i]\n",
    "    return Cmv_array\n",
    "\n",
    "\n",
    "#############################################################\n",
    "def Outso(image, step):\n",
    "    \n",
    "    All_colors = image.flatten()\n",
    "    Total_Weight = len(All_colors)\n",
    "    Least_var = -1\n",
    "    Least_var_threshold = -1\n",
    "    \n",
    "    # create an array of all possible threshold values which we want to loop through\n",
    "    color_thresholds = np.arange(np.min(image)+step, np.max(image)-step, step)\n",
    "    print (color_thresholds)\n",
    "    # loop through the thresholds to find the one with the least within class variance\n",
    "    for color_threshold in color_thresholds:\n",
    "        bg_pixels = All_colors[All_colors < color_threshold]\n",
    "        weight_bg = len(bg_pixels) / Total_Weight\n",
    "        variance_bg = np.var(bg_pixels)\n",
    "\n",
    "        fg_pixels = All_colors[All_colors >= color_threshold]\n",
    "        weight_fg = len(fg_pixels) / Total_Weight\n",
    "        variance_fg = np.var(fg_pixels)\n",
    "\n",
    "        within_class_variance = weight_fg*variance_fg + weight_bg*variance_bg\n",
    "        if Least_var == -1 or Least_var > within_class_variance:\n",
    "            Least_var = within_class_variance\n",
    "            Least_var_threshold = color_threshold\n",
    "        # print(\"trace:\", within_class_variance, color_threshold)\n",
    "            \n",
    "    return Least_var_threshold\n",
    "\n",
    "\n",
    "#############################################################\n",
    "def local_threshold(input_img):\n",
    "\n",
    "    h, w = input_img.shape\n",
    "\n",
    "    S = w/8\n",
    "    s2 = S/2\n",
    "    T = 15.0\n",
    "\n",
    "    #integral img\n",
    "    int_img = np.zeros_like(input_img, dtype=np.uint32)\n",
    "    for col in range(w):\n",
    "        for row in range(h):\n",
    "            int_img[row,col] = input_img[0:row,0:col].sum()\n",
    "\n",
    "    #output img\n",
    "    output_img = np.zeros_like(input_img)    \n",
    "\n",
    "    for col in range(w):\n",
    "        for row in range(h):\n",
    "            #SxS region\n",
    "            y0 = int(max(row-s2, 0))\n",
    "            y1 = int(min(row+s2, h-1))\n",
    "            x0 = int(max(col-s2, 0))\n",
    "            x1 = int(min(col+s2, w-1))\n",
    "\n",
    "            count = (y1-y0)*(x1-x0)\n",
    "\n",
    "            sum_ = int_img[y1, x1]-int_img[y0, x1]-int_img[y1, x0]+int_img[y0, x0]\n",
    "\n",
    "            if input_img[row, col]*count < sum_*(100.-T)/100.:\n",
    "                output_img[row,col] = 255\n",
    "            else:\n",
    "                output_img[row,col] = 0\n",
    "\n",
    "    return output_img\n",
    "\n",
    "\n",
    "#############################################################\n",
    "def Globale_Thresholding (img , value):\n",
    "    r, c = img.shape\n",
    "    img_thre = np.zeros([r, c])\n",
    "\n",
    "    for i in range (0,r):\n",
    "        for j in range (0,c):\n",
    "            if img[i,j] >= value:\n",
    "                img_thre[i,j] = 255\n",
    "            else:\n",
    "                img_thre[i,j] = 0\n",
    "\n",
    "    return img_thre\n",
    "\n",
    "\n",
    "#############################################################\n",
    "def get_fft(img):\n",
    "    fft = np.fft.fft2(img)\n",
    "    fft_shifted = np.fft.fftshift(fft)\n",
    "    \n",
    "    return fft_shifted\n",
    "\n",
    "\n",
    "#############################################################\n",
    "def add_low_pass(img,pass_percent):\n",
    "    fft_shifted = np.asarray(get_fft(img))\n",
    "    filter = np.zeros((fft_shifted.shape),dtype=np.uint8)\n",
    "    start_x = int(0+((img.shape[0]-pass_percent*img.shape[0])/2.0))\n",
    "    stop_x = int(img.shape[0]-((img.shape[0]-pass_percent*img.shape[0])/2.0))\n",
    "    start_y = int(0+((img.shape[1]-pass_percent*img.shape[1])/2.0))\n",
    "    stop_y = int(img.shape[1]-((img.shape[1]-pass_percent*img.shape[1])/2.0))\n",
    "    filter[start_x:stop_x,start_y:stop_y] = np.ones((stop_x-start_x,stop_y-start_y), dtype=np.uint8)\n",
    "    filtered_img = fft_shifted * filter\n",
    "    filtered_img = np.fft.ifftshift(filtered_img)\n",
    "    filtered_img = np.fft.ifft2(filtered_img)\n",
    "    filtered_img = np.abs(filtered_img).clip(0,255).astype(np.uint8)\n",
    "\n",
    "    \n",
    "    return filtered_img\n",
    "\n",
    "\n",
    "#############################################################\n",
    "def add_high_pass(img,pass_percent):\n",
    "    fft_shifted = np.asarray(get_fft(img))\n",
    "    filter = np.ones((fft_shifted.shape),dtype=np.uint8)\n",
    "    start_x = int(0+((img.shape[0]-pass_percent*img.shape[0])/2.0))\n",
    "    stop_x = int(img.shape[0]-((img.shape[0]-pass_percent*img.shape[0])/2.0))\n",
    "    start_y = int(0+((img.shape[1]-pass_percent*img.shape[1])/2.0))\n",
    "    stop_y = int(img.shape[1]-((img.shape[1]-pass_percent*img.shape[1])/2.0))\n",
    "    filter[start_x:stop_x,start_y:stop_y] = np.zeros((stop_x-start_x,stop_y-start_y), dtype=np.uint8)\n",
    "    filtered_img = fft_shifted * filter\n",
    "    filtered_img = np.fft.ifftshift(filtered_img)\n",
    "    filtered_img = np.fft.ifft2(filtered_img)\n",
    "    filtered_img = np.abs(filtered_img).clip(0,255).astype(np.uint8)\n",
    "\n",
    "    \n",
    "    cv.waitKey(0)\n",
    "    return filtered_img\n",
    "\n",
    "\n",
    "#############################################################\n",
    "def hybrid(img1,img2):\n",
    "    img = img1+img2\n",
    "    return img\n",
    "    "
   ]
  },
  {
   "cell_type": "code",
   "execution_count": 4,
   "metadata": {},
   "outputs": [
    {
     "data": {
      "text/plain": [
       "-1"
      ]
     },
     "execution_count": 4,
     "metadata": {},
     "output_type": "execute_result"
    }
   ],
   "source": [
    "#Adding gauusian noise  \"point 1 p1\"\n",
    "Resulted_Image = add_gauusian_noise(Gray_Image,200,10)\n",
    "cv.imshow('Gaussian_noise',Resulted_Image)\n",
    "cv.waitKey(0) \n"
   ]
  },
  {
   "cell_type": "code",
   "execution_count": 5,
   "metadata": {},
   "outputs": [
    {
     "data": {
      "text/plain": [
       "-1"
      ]
     },
     "execution_count": 5,
     "metadata": {},
     "output_type": "execute_result"
    }
   ],
   "source": [
    "#Adding uniform noise   \"point 1 p2\"\n",
    "Resulted_Image = add_uniform_noise(Gray_Image,150,255)\n",
    "cv.imshow('Uniform_noise',Resulted_Image)\n",
    "cv.waitKey(0) "
   ]
  },
  {
   "cell_type": "code",
   "execution_count": 6,
   "metadata": {},
   "outputs": [
    {
     "data": {
      "text/plain": [
       "-1"
      ]
     },
     "execution_count": 6,
     "metadata": {},
     "output_type": "execute_result"
    }
   ],
   "source": [
    "#Adding salt & pepper noise   \"point 1 p3\"\n",
    "Resulted_Image = add_sp_noise(Gray_Image,0.2,0.1)\n",
    "cv.imshow('sp_noise',Resulted_Image)\n",
    "cv.waitKey(0) "
   ]
  },
  {
   "cell_type": "code",
   "execution_count": 7,
   "metadata": {},
   "outputs": [
    {
     "data": {
      "image/png": "[encoded data removed]",
      "text/plain": [
       "<Figure size 432x288 with 1 Axes>"
      ]
     },
     "metadata": {
      "needs_background": "light"
     },
     "output_type": "display_data"
    }
   ],
   "source": [
    "#Plotting Histogram     \"point 4 p1\"\n",
    "x = np.linspace(0, 255, num=256)\n",
    "results = get_Histogram(Gray_Image)\n",
    "plt.bar(x,results)\n",
    "plt.ylabel('Frequency')\n",
    "plt.xlabel('Values')\n",
    "plt.show()"
   ]
  },
  {
   "cell_type": "code",
   "execution_count": 8,
   "metadata": {},
   "outputs": [
    {
     "data": {
      "text/plain": [
       "[<matplotlib.lines.Line2D at 0x259c60871f0>]"
      ]
     },
     "execution_count": 8,
     "metadata": {},
     "output_type": "execute_result"
    },
    {
     "data": {
      "image/png": "[encoded data removed]",
      "text/plain": [
       "<Figure size 432x288 with 1 Axes>"
      ]
     },
     "metadata": {
      "needs_background": "light"
     },
     "output_type": "display_data"
    }
   ],
   "source": [
    "#Plotting Distribution Curve  \"point 4 p2\"\n",
    "plt.plot(x,results)"
   ]
  },
  {
   "cell_type": "code",
   "execution_count": 9,
   "metadata": {},
   "outputs": [
    {
     "data": {
      "text/plain": [
       "-1"
      ]
     },
     "execution_count": 9,
     "metadata": {},
     "output_type": "execute_result"
    }
   ],
   "source": [
    "#Normalizing Image    \"point 6\"\n",
    "Norm_image = Normalization(Gray_Image)\n",
    "cv.imshow('Normalized_image' , Norm_image)\n",
    "cv.waitKey(0)"
   ]
  },
  {
   "cell_type": "code",
   "execution_count": 10,
   "metadata": {},
   "outputs": [
    {
     "data": {
      "text/plain": [
       "-1"
      ]
     },
     "execution_count": 10,
     "metadata": {},
     "output_type": "execute_result"
    }
   ],
   "source": [
    "#Applying Gaussian Filter  \"point 2 p1\"\n",
    "img_gaus = gaussian_Filter(Gray_Image , 3 , 2.0)\n",
    "cv.imshow('Gaussian_Filter.png', img_gaus)\n",
    "cv.waitKey(0)"
   ]
  },
  {
   "cell_type": "code",
   "execution_count": 12,
   "metadata": {},
   "outputs": [
    {
     "data": {
      "text/plain": [
       "-1"
      ]
     },
     "execution_count": 12,
     "metadata": {},
     "output_type": "execute_result"
    }
   ],
   "source": [
    "#Applying Median Filter  \"point 2 p2\"\n",
    "img_med = Median_Filter(Gray_Image)\n",
    "cv.imshow('Median_Filter.png', img_med)\n",
    "cv.waitKey(0)"
   ]
  },
  {
   "cell_type": "code",
   "execution_count": 13,
   "metadata": {},
   "outputs": [
    {
     "data": {
      "text/plain": [
       "-1"
      ]
     },
     "execution_count": 13,
     "metadata": {},
     "output_type": "execute_result"
    }
   ],
   "source": [
    "#Applying Average Filter  \"point 2 p3\"\n",
    "img_avrg = Averaging_Filter(Gray_Image , 3)\n",
    "cv.imshow('Gaussian_Filter.png', img_avrg)\n",
    "cv.waitKey(0)"
   ]
  },
  {
   "cell_type": "code",
   "execution_count": 14,
   "metadata": {},
   "outputs": [
    {
     "data": {
      "text/plain": [
       "-1"
      ]
     },
     "execution_count": 14,
     "metadata": {},
     "output_type": "execute_result"
    }
   ],
   "source": [
    "#Equalizing Image  \"point 5\"\n",
    "Equal_image = Equalize_image('Flower.jpg')\n",
    "cv.imshow('Equalized_image' , Equal_image)\n",
    "cv.waitKey(0)"
   ]
  },
  {
   "cell_type": "code",
   "execution_count": 16,
   "metadata": {},
   "outputs": [
    {
     "data": {
      "image/png": "[encoded data removed]",
      "text/plain": [
       "<Figure size 432x288 with 3 Axes>"
      ]
     },
     "metadata": {
      "needs_background": "light"
     },
     "output_type": "display_data"
    }
   ],
   "source": [
    "#Drawing RGB Histogram   \"point 8 p1\"\n",
    "\n",
    "x = np.linspace(0, 255, num=256)\n",
    "\n",
    "# Get BGR data from image\n",
    "Blue = get_Histogram(Original_Image[:,:,0])\n",
    "Green = get_Histogram(Original_Image[:,:,1])\n",
    "Red = get_Histogram(Original_Image[:,:,2])\n",
    "\n",
    "\n",
    "\n",
    "# Separate histograms for each color\n",
    "plt.subplot(3, 1, 1)\n",
    "plt.title(\"Histogram of Blue\")\n",
    "plt.bar(x, Blue, color=\"blue\")\n",
    "\n",
    "plt.subplot(3, 1, 2)\n",
    "plt.title(\"Histogram of Green\")\n",
    "plt.bar(x, Green, color=\"green\")\n",
    "\n",
    "plt.subplot(3, 1, 3)\n",
    "plt.title(\"Histogram of Red\")\n",
    "plt.bar(x, Red, color=\"red\")\n",
    "\n",
    "plt.tight_layout()\n",
    "plt.show()"
   ]
  },
  {
   "cell_type": "code",
   "execution_count": 17,
   "metadata": {},
   "outputs": [
    {
     "data": {
      "image/png": "[encoded data removed]",
      "text/plain": [
       "<Figure size 432x288 with 3 Axes>"
      ]
     },
     "metadata": {
      "needs_background": "light"
     },
     "output_type": "display_data"
    }
   ],
   "source": [
    "#Drawing RGB Distribution curve   \"point 8 p2\"\n",
    "x = np.linspace(0, 255, num=256)   \n",
    "\n",
    "# Get BGR data from image\n",
    "Blue = get_Histogram(Original_Image[:,:,0])\n",
    "Green = get_Histogram(Original_Image[:,:,1])\n",
    "Red = get_Histogram(Original_Image[:,:,2])\n",
    "\n",
    "#Separate distribution Curves for each color\n",
    "plt.subplot(3, 1, 1)\n",
    "plt.title(\"Distribution curve of Blue\")\n",
    "plt.plot(x, Blue, color=\"blue\")\n",
    "\n",
    "plt.subplot(3, 1, 2)\n",
    "plt.title(\"Distribution curve of Green\")\n",
    "plt.plot(x, Green, color=\"green\")\n",
    "\n",
    "plt.subplot(3, 1, 3)\n",
    "plt.title(\"Distribution curve of Red\")\n",
    "plt.plot(x, Red, color=\"red\")\n",
    "\n",
    "plt.tight_layout()\n",
    "plt.show()"
   ]
  },
  {
   "cell_type": "code",
   "execution_count": 18,
   "metadata": {},
   "outputs": [
    {
     "data": {
      "image/png": "[encoded data removed]",
      "text/plain": [
       "<Figure size 432x288 with 2 Axes>"
      ]
     },
     "metadata": {
      "needs_background": "light"
     },
     "output_type": "display_data"
    }
   ],
   "source": [
    "#Drawing RGB Histogram & distribution curve of all colors combined   \"point 8 p3\"\n",
    " \n",
    "x = np.linspace(0, 255, num=256)\n",
    "\n",
    "# Get BGR data from image\n",
    "Blue = get_Histogram(Original_Image[:,:,0])\n",
    "Green = get_Histogram(Original_Image[:,:,1])\n",
    "Red = get_Histogram(Original_Image[:,:,2])\n",
    "\n",
    "# combined histogram\n",
    "plt.subplot(2, 1, 1)\n",
    "plt.title(\"Histogram of all RGB Colors\")\n",
    "plt.bar(x, Blue, color=\"blue\")\n",
    "plt.bar(x, Green, color=\"green\")\n",
    "plt.bar(x, Red, color=\"red\")\n",
    "\n",
    "plt.subplot(2, 1, 2)\n",
    "plt.title(\"distribution of all RGB Colors\")\n",
    "plt.plot(x, Blue, color=\"blue\")\n",
    "plt.plot(x, Green, color=\"green\")\n",
    "plt.plot(x, Red, color=\"red\")\n",
    "\n",
    "plt.tight_layout()\n",
    "plt.show()"
   ]
  },
  {
   "cell_type": "code",
   "execution_count": 20,
   "metadata": {},
   "outputs": [
    {
     "data": {
      "image/png": "[encoded data removed]",
      "text/plain": [
       "<Figure size 432x288 with 3 Axes>"
      ]
     },
     "metadata": {
      "needs_background": "light"
     },
     "output_type": "display_data"
    }
   ],
   "source": [
    "#Drawing Cumulative distribution Curve   \"point 8 p4\"\n",
    "\n",
    "x = np.linspace(0, 255, num=256)   \n",
    "\n",
    "# Get BGR data from image\n",
    "Blue = get_Histogram(Original_Image[:,:,0])\n",
    "Cmv_Blue = get_cumulative(Blue) \n",
    "Green = get_Histogram(Original_Image[:,:,1])\n",
    "Cmv_Green = get_cumulative(Green) \n",
    "Red = get_Histogram(Original_Image[:,:,2])\n",
    "Cmv_Red = get_cumulative(Red) \n",
    "\n",
    "\n",
    "# Separate histograms for each color\n",
    "plt.subplot(3, 1, 1)\n",
    "plt.title(\"Cumulative of Blue\")\n",
    "plt.bar(x, Cmv_Blue, color=\"blue\")\n",
    "\n",
    "plt.subplot(3, 1, 2)\n",
    "plt.title(\"Cumulative of Green\")\n",
    "plt.bar(x, Cmv_Green, color=\"green\")\n",
    "\n",
    "plt.subplot(3, 1, 3)\n",
    "plt.title(\"Cumulative of Red\")\n",
    "plt.bar(x, Cmv_Red, color=\"red\")\n",
    "\n",
    "plt.tight_layout()\n",
    "plt.show()"
   ]
  },
  {
   "cell_type": "code",
   "execution_count": 21,
   "metadata": {},
   "outputs": [
    {
     "data": {
      "text/plain": [
       "-1"
      ]
     },
     "execution_count": 21,
     "metadata": {},
     "output_type": "execute_result"
    }
   ],
   "source": [
    "dog = cv.imread(\"./dog.jpg\",0)\n",
    "cat = cv.imread(\"./cat.jpg\",0)\n",
    "\n",
    "img1 = add_low_pass(cat,0.07)\n",
    "img2 = add_high_pass(dog,0.07)\n",
    "hybridimg = hybrid(img1,img2)\n",
    "cv.imshow('./low_filtered_img.jpg', img1)\n",
    "cv.waitKey(0)\n",
    "cv.imshow('./high_filtered_img.jpg', img2)\n",
    "cv.waitKey(0)\n",
    "cv.imshow('./hybrid.jpg',hybridimg)\n",
    "cv.waitKey(0)"
   ]
  },
  {
   "cell_type": "code",
   "execution_count": 23,
   "metadata": {},
   "outputs": [
    {
     "name": "stdout",
     "output_type": "stream",
     "text": [
      "[1.000e-01 2.000e-01 3.000e-01 ... 2.546e+02 2.547e+02 2.548e+02]\n",
      "106.1\n"
     ]
    },
    {
     "data": {
      "text/plain": [
       "-1"
      ]
     },
     "execution_count": 23,
     "metadata": {},
     "output_type": "execute_result"
    }
   ],
   "source": [
    "Outso_result = Outso(Gray_Image, 0.1)\n",
    "Global_img = Globale_Thresholding (Gray_Image , Outso_result)\n",
    "print (Outso_result)\n",
    "cv.imshow('output.png' , Global_img)\n",
    "cv.waitKey(0)\n"
   ]
  },
  {
   "cell_type": "code",
   "execution_count": 25,
   "metadata": {},
   "outputs": [
    {
     "name": "stderr",
     "output_type": "stream",
     "text": [
      "C:\\Users\\Tarek\\AppData\\Local\\Temp/ipykernel_18236/2322263711.py:261: RuntimeWarning: overflow encountered in ulong_scalars\n",
      "  sum_ = int_img[y1, x1]-int_img[y0, x1]-int_img[y1, x0]+int_img[y0, x0]\n"
     ]
    },
    {
     "data": {
      "text/plain": [
       "-1"
      ]
     },
     "execution_count": 25,
     "metadata": {},
     "output_type": "execute_result"
    }
   ],
   "source": [
    "Local_img = local_threshold(Gray_Image)\n",
    "cv.imshow('output_2.png' , Local_img)\n",
    "cv.waitKey(0)"
   ]
  }
 ],
 "metadata": {
  "interpreter": {
   "hash": "ed225720166559e7176d3793db16a2fd8d295f725007103b21ac3099d2a89ee8"
  },
  "kernelspec": {
   "display_name": "Python 3.9.7 ('base')",
   "language": "python",
   "name": "python3"
  },
  "language_info": {
   "codemirror_mode": {
    "name": "ipython",
    "version": 3
   },
   "file_extension": ".py",
   "mimetype": "text/x-python",
   "name": "python",
   "nbconvert_exporter": "python",
   "pygments_lexer": "ipython3",
   "version": "3.9.7"
  },
  "orig_nbformat": 4
 },
 "nbformat": 4,
 "nbformat_minor": 2
}
